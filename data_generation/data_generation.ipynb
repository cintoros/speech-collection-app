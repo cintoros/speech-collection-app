{
 "cells": [
  {
   "cell_type": "code",
   "execution_count": 1,
   "metadata": {},
   "outputs": [
    {
     "name": "stdout",
     "output_type": "stream",
     "text": [
      "present\n"
     ]
    }
   ],
   "source": [
    "import os\n",
    "\n",
    "import pyttsx3\n",
    "from espeakng import ESpeakNG\n",
    "from gtts import gTTS\n",
    "\n",
    "import abox\n",
    "from config import *\n",
    "\n",
    "def ttsGTTS(text: str):\n",
    "    \"\"\"\n",
    "     limit are not known but probaly are similar to the official-api \n",
    "     see https://cloud.google.com/text-to-speech/quotas\n",
    "     see also https://github.com/pndurette/gTTS/issues/117#issuecomment-458634045\n",
    "    \"\"\"\n",
    "    tts = gTTS(text, lang='de')\n",
    "    tts.save(os.path.join(BASE_DIR, 'data_generation', \"gTTS.mp3\"))\n",
    "\n",
    "\n",
    "# TODO not sure about the quality of espeak-ng\n",
    "# requires espeak-ng  to be installed locally\n",
    "def ttsEsng(text: str):\n",
    "    esng = ESpeakNG()\n",
    "    esng.voice = 'german'\n",
    "    esng.voice = 'German'\n",
    "    # esng.pitch = 80\n",
    "    # esng.speed = 120\n",
    "    # esng.volume = 200\n",
    "    #for v in esng.voices:\n",
    "        #print(v)\n",
    "    wavs = esng.synth_wav(text)\n",
    "    if wavs:\n",
    "        print(\"present\")\n",
    "        with open(os.path.join(BASE_DIR, 'data_generation', \"esng.wav\"), 'wb') as output:\n",
    "            output.write(wavs)\n",
    "    else:\n",
    "        print(\"nope\")\n",
    "    # wav = wave.open(StringIO.StringIO(wavs))\n",
    "    # print(wav.getnchannels(), wav.getframerate(), wav.getnframes())\n",
    "\n",
    "\n",
    "# TODO https://acapela-box.com/AcaBox/index.php does not serve an api.\n",
    "#  For a cloud base api see https://www.acapela-group.com/solutions/acapela-vaas/\n",
    "# TODO not sure about this implementation -> needs python-pympv or other library that provides codecs\n",
    "# def ttsAbox(text: str):\n",
    "#     box = abox.Abox(output=os.path.join(BASE_DIR, 'data_generation', \"abox.ogg\"), voice=\"willbadguy22k\")\n",
    "#     url = box.query(text)\n",
    "#     ret = abox.ab_download(url, box.option_l)\n",
    "#     if not ret:\n",
    "#         print(\"Aborting\")\n",
    "\n",
    "\n",
    "def run(text: str):\n",
    "    # ttsGTTS(text)\n",
    "    ttsEsng(text)\n",
    "    # ttsAbox(text)\n",
    "\n",
    "\n",
    "run(\"Hallo Welt das hier ist ein deutscher Text gesprochen von einem Programm.\")\n"
   ]
  },
  {
   "cell_type": "code",
   "execution_count": 1,
   "metadata": {},
   "outputs": [
    {
     "name": "stdout",
     "output_type": "stream",
     "text": [
      "Audio content written to file\n",
      "Audio content written to file\n",
      "Audio content written to file\n"
     ]
    }
   ],
   "source": [
    "# based on https://cloud.google.com/text-to-speech/docs/reference/libraries#cloud-console\n",
    "# for pricing see https://cloud.google.com/text-to-speech/pricing\n",
    "# for languages/voices see https://cloud.google.com/text-to-speech/docs/voices\n",
    "\n",
    "import os\n",
    "from google.oauth2 import service_account\n",
    "from config import *\n",
    "from google.cloud import texttospeech\n",
    "\n",
    "os.makedirs(name=os.path.join(BASE_DIR, \"data_generation\", \"google_cloud\"),exist_ok=True)\n",
    "\n",
    "# Instantiates a client\n",
    "credentials = service_account.Credentials.from_service_account_file(GOOGLE_APPLICATION_CREDENTIALS)\n",
    "client = texttospeech.TextToSpeechClient(credentials=credentials)\n",
    "\n",
    "# Set the text input to be synthesized\n",
    "text=\"Hallo Welt das hier ist ein deutscher Text gesprochen von einem Programm.\"\n",
    "synthesis_input = texttospeech.types.SynthesisInput(text=text)\n",
    "\n",
    "# Build the voice request, select the language and voice\n",
    "# Standard Female\n",
    "voice = texttospeech.types.VoiceSelectionParams(language_code=\"de-DE\",name=\"de-DE-Standard-A\")\n",
    "# Standard Male\n",
    "voice = texttospeech.types.VoiceSelectionParams(language_code=\"de-DE\",name=\"de-DE-Standard-B\")\n",
    "# Neutral Ssml => seems to default to de-DE-Standard-A\n",
    "voice = texttospeech.types.VoiceSelectionParams(language_code=\"de-DE\",ssml_gender=texttospeech.enums.SsmlVoiceGender.NEUTRAL)\n",
    "# Select the type of audio file you want returned\n",
    "audio_config = texttospeech.types.AudioConfig(audio_encoding=texttospeech.enums.AudioEncoding.LINEAR16)\n",
    "# Perform the text-to-speech request on the text input with the selected voice parameters and audio file type\n",
    "response = client.synthesize_speech(synthesis_input, voice, audio_config)\n",
    "\n",
    "# The response's audio_content is binary.\n",
    "with open(os.path.join(BASE_DIR, \"data_generation\", \"google_cloud\",\"google_cloud_n.wav\"), 'wb') as out:\n",
    "    # Write the response to the output file.\n",
    "    out.write(response.audio_content)\n",
    "    print('Audio content written to file')"
   ]
  },
  {
   "cell_type": "code",
   "execution_count": 7,
   "metadata": {},
   "outputs": [
    {
     "data": {
      "text/plain": [
       "<_io.BufferedRandom name='testme.flac'>"
      ]
     },
     "execution_count": 7,
     "metadata": {},
     "output_type": "execute_result"
    }
   ],
   "source": [
    "from pydub import AudioSegment\n",
    "import io\n",
    "ac=response.audio_content\n",
    "podcast = AudioSegment.from_wav( io.BytesIO(ac))\n",
    "podcast.export(\"testme.flac\",format = \"flac\")"
   ]
  },
  {
   "cell_type": "code",
   "execution_count": 43,
   "metadata": {},
   "outputs": [
    {
     "name": "stdout",
     "output_type": "stream",
     "text": [
      "Speech synthesis canceled: CancellationReason.Error\n",
      "Error details: Connection failed (no connection to the remote host). Internal error: 1. Error details: 2460. Please check network connection, firewall setting, and the region name used to create speech factory. USP state: 2. Received audio size: 0bytes.\n",
      "SpeechSynthesisCancellationDetails(reason=CancellationReason.Error, error_details=\"Connection failed (no connection to the remote host). Internal error: 1. Error details: 2460. Please check network connection, firewall setting, and the region name used to create speech factory. USP state: 2. Received audio size: 0bytes.\")\n",
      "Did you update the subscription info?\n"
     ]
    }
   ],
   "source": [
    "# based on https://azure.microsoft.com/en-us/pricing/details/cognitive-services/speech-services/\n",
    "# for pricing see https://azure.microsoft.com/en-us/pricing/details/cognitive-services/speech-services/\n",
    "# for voices see https://docs.microsoft.com/en-us/azure/cognitive-services/speech-service/language-support#standard-voices\n",
    "\n",
    "# NOTE: on manjaro this sdk does not seem to work as some libary are not present?\n",
    "# -> this may also happen on newer linux distribution in case the packages/kernel are updated\n",
    "import os\n",
    "import azure.cognitiveservices.speech as speechsdk\n",
    "from config import *\n",
    "\n",
    "os.makedirs(name=os.path.join(BASE_DIR, \"data_generation\", \"azure_cloud\"),exist_ok=True)\n",
    "\n",
    "# Replace with your own subscription key and region identifier from here: https://aka.ms/speech/sdkregion\n",
    "speech_config = speechsdk.SpeechConfig(subscription=AZURE_APPLICATION_KEY, region=AZURE_APPLICATION_REGION)\n",
    "\n",
    "# Creates an audio configuration that points to an audio file.\n",
    "# Replace with your own audio filename.\n",
    "audio_filename = os.path.join(BASE_DIR, \"data_generation\", \"azure_cloud\",\"helloworld.mp3\")\n",
    "audio_output = speechsdk.audio.AudioOutputConfig(filename=audio_filename)\n",
    "\n",
    "# Creates a synthesizer with the given settings\n",
    "speech_synthesizer = speechsdk.SpeechSynthesizer(speech_config=speech_config, audio_config=audio_output)\n",
    "\n",
    "# Synthesizes the text to speech.\n",
    "# Replace with your own text.\n",
    "text = \"Hello world!\"\n",
    "result = speech_synthesizer.speak_text_async(text).get()\n",
    "\n",
    "# Checks result.\n",
    "if result.reason == speechsdk.ResultReason.SynthesizingAudioCompleted:\n",
    "    print(\"Speech synthesized to [{}] for text [{}]\".format(audio_filename, text))\n",
    "elif result.reason == speechsdk.ResultReason.Canceled:\n",
    "    cancellation_details = result.cancellation_details\n",
    "    print(\"Speech synthesis canceled: {}\".format(cancellation_details.reason))\n",
    "    if cancellation_details.reason == speechsdk.CancellationReason.Error:\n",
    "        if cancellation_details.error_details:\n",
    "            print(\"Error details: {}\".format(cancellation_details.error_details))\n",
    "            print(cancellation_details)\n",
    "    print(\"Did you update the subscription info?\")"
   ]
  },
  {
   "cell_type": "code",
   "execution_count": 40,
   "metadata": {},
   "outputs": [],
   "source": [
    "# https://docs.microsoft.com/en-us/azure/cognitive-services/speech-service/quickstart-python-text-to-speech\n",
    "\n",
    "import os\n",
    "import requests\n",
    "import time\n",
    "from xml.etree import ElementTree\n",
    "from config import *\n",
    "\n",
    "def get_token():\n",
    "    fetch_token_url = 'https://'+AZURE_APPLICATION_REGION+'.api.cognitive.microsoft.com/sts/v1.0/issueToken'\n",
    "    headers = {\n",
    "        'Ocp-Apim-Subscription-Key': AZURE_APPLICATION_KEY\n",
    "    }\n",
    "    response = requests.post(fetch_token_url, headers=headers)\n",
    "    access_token = str(response.text)\n",
    "    return access_token\n",
    "\n",
    "basePath=os.path.join(BASE_DIR, \"data_generation\", \"azure_cloud\")\n",
    "os.makedirs(name=basePath,exist_ok=True)\n",
    "\n",
    "base_url = 'https://'+AZURE_APPLICATION_REGION+'.tts.speech.microsoft.com/'\n",
    "path = 'cognitiveservices/v1'\n",
    "constructed_url = base_url + path\n",
    "headers = {\n",
    "    'Authorization': 'Bearer ' + get_token(),\n",
    "    'Content-Type': 'application/ssml+xml',\n",
    "    # see https://docs.microsoft.com/en-us/azure/cognitive-services/speech-service/rest-text-to-speech#audio-outputs\n",
    "    'X-Microsoft-OutputFormat': 'riff-16khz-16bit-mono-pcm',\n",
    "    'User-Agent': 'YOUR_RESOURCE_NAME'\n",
    "}"
   ]
  },
  {
   "cell_type": "code",
   "execution_count": 39,
   "metadata": {},
   "outputs": [
    {
     "name": "stdout",
     "output_type": "stream",
     "text": [
      "\n",
      "Status code: 200\n",
      "Your TTS is ready for playback.\n",
      "\n"
     ]
    }
   ],
   "source": [
    "voiceName=\"de-DE-Hedda\"\n",
    "\n",
    "xml_body = ElementTree.Element('speak', version='1.0')\n",
    "xml_body.set('{http://www.w3.org/XML/1998/namespace}lang', 'en-US')\n",
    "voice = ElementTree.SubElement(xml_body, 'voice')\n",
    "voice.set('{http://www.w3.org/XML/1998/namespace}lang', 'en-US')\n",
    "voice.set('name', voiceName)\n",
    "voice.text = \"Hallo Welt das hier ist ein deutscher Text gesprochen von einem Programm.\"\n",
    "body = ElementTree.tostring(xml_body)\n",
    "# TODO refactor + test this code here.\n",
    "response = requests.post(constructed_url, headers=headers, data=body)\n",
    "if response.status_code == 200:\n",
    "    with open(os.path.join(basePath,\"sample-\"+voiceName+\".mp3\"), 'wb') as audio:\n",
    "        audio.write(response.content)\n",
    "        print(\"\\nStatus code: \" + str(response.status_code) +\n",
    "              \"\\nYour TTS is ready for playback.\\n\")\n",
    "else:\n",
    "    print(\"\\nStatus code: \" + str(response.status_code) +\n",
    "          \"\\nSomething went wrong. Check your subscription key and headers.\\n\")"
   ]
  },
  {
   "cell_type": "code",
   "execution_count": 31,
   "metadata": {},
   "outputs": [
    {
     "name": "stderr",
     "output_type": "stream",
     "text": [
      "ERROR:root:Internal Python error in the inspect module.\n",
      "Below is the traceback from this internal error.\n",
      "\n"
     ]
    },
    {
     "name": "stdout",
     "output_type": "stream",
     "text": [
      "[Errno 2] No such file or directory: '/home/cintoros/Documents/git_repos/speech-collection-app/data/data_generation/aws/speech2.raw'\n",
      "Traceback (most recent call last):\n",
      "  File \"<ipython-input-31-11a32be1beba>\", line 38, in <module>\n",
      "    with open( os.path.join(basePath,\"speech2.raw\"), \"wb\") as file:\n",
      "FileNotFoundError: [Errno 2] No such file or directory: '/home/cintoros/Documents/git_repos/speech-collection-app/data/data_generation/aws/speech2.raw'\n",
      "\n",
      "During handling of the above exception, another exception occurred:\n",
      "\n",
      "Traceback (most recent call last):\n",
      "  File \"/home/cintoros/miniconda3/envs/speech_collection_app_data_generation/lib/python3.8/site-packages/IPython/core/interactiveshell.py\", line 3331, in run_code\n",
      "    exec(code_obj, self.user_global_ns, self.user_ns)\n",
      "  File \"<ipython-input-31-11a32be1beba>\", line 46, in <module>\n",
      "    sys.exit(-1)\n",
      "SystemExit: -1\n",
      "\n",
      "During handling of the above exception, another exception occurred:\n",
      "\n",
      "Traceback (most recent call last):\n",
      "  File \"/home/cintoros/miniconda3/envs/speech_collection_app_data_generation/lib/python3.8/site-packages/IPython/core/ultratb.py\", line 1148, in get_records\n",
      "    return _fixed_getinnerframes(etb, number_of_lines_of_context, tb_offset)\n",
      "  File \"/home/cintoros/miniconda3/envs/speech_collection_app_data_generation/lib/python3.8/site-packages/IPython/core/ultratb.py\", line 316, in wrapped\n",
      "    return f(*args, **kwargs)\n",
      "  File \"/home/cintoros/miniconda3/envs/speech_collection_app_data_generation/lib/python3.8/site-packages/IPython/core/ultratb.py\", line 350, in _fixed_getinnerframes\n",
      "    records = fix_frame_records_filenames(inspect.getinnerframes(etb, context))\n",
      "  File \"/home/cintoros/miniconda3/envs/speech_collection_app_data_generation/lib/python3.8/inspect.py\", line 1503, in getinnerframes\n",
      "    frameinfo = (tb.tb_frame,) + getframeinfo(tb, context)\n",
      "AttributeError: 'tuple' object has no attribute 'tb_frame'\n"
     ]
    },
    {
     "ename": "SystemExit",
     "evalue": "-1",
     "output_type": "error",
     "traceback": [
      "An exception has occurred, use %tb to see the full traceback.\n",
      "\u001b[0;31m---------------------------------------------------------------------------\u001b[0m",
      "\nDuring handling of the above exception, another exception occurred:\n",
      "\u001b[0;31mSystemExit\u001b[0m\u001b[0;31m:\u001b[0m -1\n"
     ]
    },
    {
     "name": "stderr",
     "output_type": "stream",
     "text": [
      "/home/cintoros/miniconda3/envs/speech_collection_app_data_generation/lib/python3.8/site-packages/IPython/core/interactiveshell.py:3339: UserWarning: To exit: use 'exit', 'quit', or Ctrl-D.\n",
      "  warn(\"To exit: use 'exit', 'quit', or Ctrl-D.\", stacklevel=1)\n"
     ]
    }
   ],
   "source": [
    "\"\"\"Getting Started Example for Python 2.7+/3.3+\"\"\"\n",
    "from boto3 import Session\n",
    "from botocore.exceptions import BotoCoreError, ClientError\n",
    "from contextlib import closing\n",
    "import os\n",
    "import sys\n",
    "import subprocess\n",
    "from tempfile import gettempdir\n",
    "from pydub import AudioSegment\n",
    "import io\n",
    "from config import *\n",
    "\n",
    "basePath=os.path.join(BASE_DIR, \"data_generation\", \"aws\")\n",
    "\n",
    "# Create a client using the credentials and region defined in the [adminuser]\n",
    "# section of the AWS credentials file (~/.aws/credentials).\n",
    "session = Session(profile_name=\"adminuser\")\n",
    "polly = session.client(\"polly\")\n",
    "\n",
    "try:\n",
    "    # Request speech synthesis\n",
    "    response = polly.synthesize_speech(Text=\"Hello world!\", OutputFormat=\"pcm\", SampleRate='16000',VoiceId=\"Joanna\")\n",
    "except (BotoCoreError, ClientError) as error:\n",
    "    # The service returned an error, exit gracefully\n",
    "    print(error)\n",
    "    sys.exit(-1)\n",
    "\n",
    "# Access the audio stream from the response\n",
    "if \"AudioStream\" in response:\n",
    "    # Note: Closing the stream is important because the service throttles on the\n",
    "    # number of parallel connections. Here we are using contextlib.closing to\n",
    "    # ensure the close method of the stream object will be called automatically\n",
    "    # at the end of the with statement's scope.m:\n",
    "    with closing(response[\"AudioStream\"]) as stream:\n",
    "        result=stream.read()\n",
    "        try:\n",
    "            # Open a file for writing the output as a binary stream\n",
    "            with open( os.path.join(basePath,\"speech2.raw\"), \"wb\") as file:\n",
    "                file.write(result)\n",
    "            # convert aws pcm see https://jun711.github.io/aws/convert-aws-polly-synthesized-speech-from-pcm-to-wav-format/\n",
    "            podcast=AudioSegment(result, sample_width=2, frame_rate=16000, channels=1)\n",
    "            podcast.export( os.path.join(basePath,\"testme2.flac\"),format = \"flac\")\n",
    "        except IOError as error:\n",
    "            # Could not write to file, exit gracefully\n",
    "            print(error)\n",
    "            sys.exit(-1)\n",
    "\n",
    "else:\n",
    "    # The response didn't contain audio data, exit gracefully\n",
    "    print(\"Could not stream audio\")\n",
    "    sys.exit(-1)"
   ]
  },
  {
   "cell_type": "code",
   "execution_count": 28,
   "metadata": {},
   "outputs": [
    {
     "data": {
      "text/plain": [
       "<_io.BufferedRandom name='testme.flac'>"
      ]
     },
     "execution_count": 28,
     "metadata": {},
     "output_type": "execute_result"
    }
   ],
   "source": [
    "\n"
   ]
  },
  {
   "cell_type": "code",
   "execution_count": null,
   "metadata": {},
   "outputs": [],
   "source": [
    "from data_generation import SequentualApiFetcher\n",
    "api_fetcher= SequentualApiFetcher()\n",
    "api_fetcher.request_all()"
   ]
  },
  {
   "cell_type": "code",
   "execution_count": 1,
   "metadata": {},
   "outputs": [
    {
     "name": "stdout",
     "output_type": "stream",
     "text": [
      "sec:  792958.6535000033 h:  220.2662926388898 count:  188168 errors:  126\n"
     ]
    }
   ],
   "source": [
    "import os;\n",
    "from mutagen.mp3 import MP3\n",
    "from config import *\n",
    "seconds=0\n",
    "count=0\n",
    "errors=[]\n",
    "entries = os.scandir()\n",
    "for fileData in os.listdir(os.path.join(BASE_DIR, \"data_generation\", \"sequentual\")):\n",
    "    try:\n",
    "        count+=1;\n",
    "        audio = MP3(os.path.join(os.path.join(BASE_DIR, \"data_generation\", \"sequentual\",fileData)))\n",
    "        seconds+=audio.info.length\n",
    "    except:\n",
    "        errors.append(fileData)\n",
    "\n",
    "print(\"sec: \",seconds ,\"h: \",seconds/60/60,\"count: \",count,\"errors: \",len(errors))\n",
    "# TODO delete files with errors from filesystem and database"
   ]
  },
  {
   "cell_type": "code",
   "execution_count": 18,
   "metadata": {},
   "outputs": [],
   "source": [
    "import mysql.connector\n",
    "connection = mysql.connector.connect(host=HOST, database=DATABASE, user=USER, password=PASSWORD)\n",
    "cursor = connection.cursor(dictionary=True)\n",
    "connection.autocommit = True\n",
    "for error in errors:\n",
    "    (id,voice)=error.split(\"_\",1)\n",
    "    voice=voice.replace(\".mp3\",\"\")\n",
    "    cursor.execute(\"DELETE FROM generated_audio WHERE text_id=%s and voice=%s\",[id,voice])\n",
    "    pe=os.path.join(BASE_DIR, \"data_generation\", \"sequentual\",error)\n",
    "    os.remove(pe);"
   ]
  },
  {
   "cell_type": "code",
   "execution_count": null,
   "metadata": {},
   "outputs": [],
   "source": []
  }
 ],
 "metadata": {
  "kernelspec": {
   "display_name": "Python 3",
   "language": "python",
   "name": "python3"
  },
  "language_info": {
   "codemirror_mode": {
    "name": "ipython",
    "version": 3
   },
   "file_extension": ".py",
   "mimetype": "text/x-python",
   "name": "python",
   "nbconvert_exporter": "python",
   "pygments_lexer": "ipython3",
   "version": "3.8.2"
  }
 },
 "nbformat": 4,
 "nbformat_minor": 2
}
