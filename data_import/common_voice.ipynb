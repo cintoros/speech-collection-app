{
 "cells": [
  {
   "cell_type": "code",
   "execution_count": 25,
   "metadata": {},
   "outputs": [],
   "source": [
    "import pandas\n",
    "import os\n",
    "from mutagen.mp3 import MP3\n",
    "basePath=\"../data/common_voice/\"\n",
    "def readDataSet(name:str):\n",
    "    dataset=pandas.read_csv(os.path.join(basePath,name), sep='\\t')\n",
    "    print(dataset.accent.unique())\n",
    "    datasetSwiss=dataset[dataset.accent == 'switzerland']\n",
    "    #print(datasetSwiss)\n",
    "\n",
    "    seconds=0\n",
    "    errors=0\n",
    "    for p in datasetSwiss.path:\n",
    "        try:\n",
    "            audio = MP3(os.path.join(basePath,\"clips\",p))\n",
    "            seconds+=audio.info.length\n",
    "        except:\n",
    "            errors+=1\n",
    "            print(\"error in file: \"+p)\n",
    "\n",
    "    print(datasetSwiss.path.count())\n",
    "    print(\"sec h\")\n",
    "    print(seconds)\n",
    "    print(seconds/60/60)"
   ]
  },
  {
   "cell_type": "code",
   "execution_count": 26,
   "metadata": {},
   "outputs": [
    {
     "name": "stdout",
     "output_type": "stream",
     "text": [
      "[nan 'germany' 'russia' 'france' 'switzerland' 'united_states' 'austria'\n",
      " 'turkey' 'united_kingdom' 'netherlands' 'canada' 'hungary' 'other'\n",
      " 'belgium' 'poland' 'liechtenstein' 'slovenia' 'brazil' 'italy' 'slovakia'\n",
      " 'czechia']\n",
      "4631\n",
      "sec h\n",
      "23246.471999999994\n",
      "6.457353333333332\n",
      "['germany' nan 'france' 'other' 'switzerland' 'austria' 'russia' 'hungary'\n",
      " 'netherlands' 'namibia' 'united_kingdom' 'slovakia' 'united_states'\n",
      " 'italy' 'czechia' 'brazil' 'turkey' 'liechtenstein' 'belgium' 'canada']\n",
      "247\n",
      "sec h\n",
      "1288.727999999999\n",
      "0.3579799999999997\n"
     ]
    }
   ],
   "source": [
    "readDataSet('validated.tsv')\n",
    "readDataSet('invalidated.tsv')"
   ]
  },
  {
   "cell_type": "code",
   "execution_count": 27,
   "metadata": {},
   "outputs": [
    {
     "name": "stdout",
     "output_type": "stream",
     "text": [
      "370976\n",
      "98750\n"
     ]
    }
   ],
   "source": [
    "# extract about 10h text -> about 5 seconds per text -> about 7660 sentences\n",
    "dataset=pandas.read_csv(os.path.join(basePath,\"validated.tsv\"), sep='\\t')\n",
    "print(len(dataset.sentence))\n",
    "print(len(dataset.sentence.unique()))\n",
    "file1 = open(os.path.join(basePath,\"sentences.txt\"),\"w\") \n",
    "for s in dataset.sentence.unique():\n",
    "    file1.write(s+\"\\n\")"
   ]
  }
 ],
 "metadata": {
  "kernelspec": {
   "display_name": "Python 3",
   "language": "python",
   "name": "python3"
  },
  "language_info": {
   "codemirror_mode": {
    "name": "ipython",
    "version": 3
   },
   "file_extension": ".py",
   "mimetype": "text/x-python",
   "name": "python",
   "nbconvert_exporter": "python",
   "pygments_lexer": "ipython3",
   "version": "3.7.7"
  }
 },
 "nbformat": 4,
 "nbformat_minor": 2
}
