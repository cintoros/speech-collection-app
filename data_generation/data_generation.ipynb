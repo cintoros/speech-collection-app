{
 "cells": [
  {
   "cell_type": "code",
   "execution_count": 1,
   "metadata": {},
   "outputs": [
    {
     "name": "stdout",
     "output_type": "stream",
     "text": [
      "Downloaded to /home/cintoros/Documents/git_repos/speech-collection-app/data/data_generation/abox.ogg\n"
     ]
    }
   ],
   "source": [
    "import os\n",
    "\n",
    "import pyttsx3\n",
    "from espeakng import ESpeakNG\n",
    "from gtts import gTTS\n",
    "\n",
    "import abox\n",
    "from config import *\n",
    "\n",
    "def ttsGTTS(text: str):\n",
    "    \"\"\"\n",
    "     current limit can be seen here https://cloud.google.com/text-to-speech/quotas\n",
    "     see also https://github.com/pndurette/gTTS/issues/117#issuecomment-458634045\n",
    "    :param text:\n",
    "    \"\"\"\n",
    "    tts = gTTS(text, lang='de')\n",
    "    tts.save(os.path.join(base_dir, 'data_generation', \"gTTS.mp3\"))\n",
    "\n",
    "\n",
    "# TODO not sure about the quality of espeak/espeak-ng\n",
    "#  could be usefully to generate data with different pitch,speed volume etc.\n",
    "\n",
    "# requires espeak(all) , nsss(mac) or sapi5(windows) to be installed locally\n",
    "def ttsPyttsx3(text: str):\n",
    "    engine = pyttsx3.init()\n",
    "    engine.setProperty('voice', 'german')\n",
    "    # rate: int = engine.getProperty('rate')\n",
    "    # engine.setProperty('rate', rate - 0)\n",
    "    # volume: int = engine.getProperty('volume')\n",
    "    # engine.setProperty('volume', volume - 0.0)\n",
    "    print(\"save_to_file\")\n",
    "    engine.save_to_file(text, os.path.join(base_dir, 'data_generation', \"pyttsx3.mp3\"))\n",
    "    print(\"runAndWait\")\n",
    "    engine.runAndWait()\n",
    "    print(\"finished?\")\n",
    "\n",
    "\n",
    "# requires espeak-ng  to be installed locally\n",
    "def ttsEsng(text: str):\n",
    "    esng = ESpeakNG()\n",
    "    esng.voice = 'german'\n",
    "    esng.voice = 'German'\n",
    "    # esng.pitch = 80\n",
    "    # esng.speed = 120\n",
    "    # esng.volume = 200\n",
    "    esng.say(text)\n",
    "    # esng.runAndWait()\n",
    "    for v in esng.voices:\n",
    "        print(v)\n",
    "    wavs = esng.synth_wav(text)\n",
    "    if wavs:\n",
    "        print(\"present\")\n",
    "        with open(os.path.join(base_dir, 'data_generation', \"esng.wav\"), 'wb') as output:\n",
    "            output.write(wavs)\n",
    "    else:\n",
    "        print(\"nope\")\n",
    "    # wav = wave.open(StringIO.StringIO(wavs))\n",
    "    # print(wav.getnchannels(), wav.getframerate(), wav.getnframes())\n",
    "\n",
    "\n",
    "# TODO https://acapela-box.com/AcaBox/index.php does not serve an api.\n",
    "#  For a cloud base api see https://www.acapela-group.com/solutions/acapela-vaas/\n",
    "# TODO not sure about this implementation -> needs python-pympv or other library that provides codecs\n",
    "def ttsAbox(text: str):\n",
    "    box = abox.Abox(output=os.path.join(base_dir, 'data_generation', \"abox.ogg\"), voice=\"willbadguy22k\")\n",
    "    url = box.query(text)\n",
    "    ret = abox.ab_download(url, box.option_l)\n",
    "    if not ret:\n",
    "        print(\"Aborting\")\n",
    "\n",
    "\n",
    "def googleApi():\n",
    "    # TODO implement\n",
    "    print(\"not implemented\")\n",
    "\n",
    "\n",
    "def bingApi():\n",
    "    # TODO implement\n",
    "    print(\"not implemented\")\n",
    "\n",
    "\n",
    "def mozillaTss():\n",
    "    # see https://github.com/mozilla/TTS\n",
    "    # TODO maybe some of the data of the open source datasets might be useful instead?\n",
    "    #  https://www.caito.de/2019/01/the-m-ailabs-speech-dataset/\n",
    "    print(\"not implemented\")\n",
    "\n",
    "\n",
    "def run(text: str):\n",
    "    # ttsGTTS(text)\n",
    "    # ttsPyttsx3(text)\n",
    "    # ttsEsng(text)\n",
    "    # acapela(text)\n",
    "    ttsAbox(text)\n",
    "\n",
    "\n",
    "run(\"Hallo Welt das hier ist ein deutscher Text gesprochen von einem Programm.\")\n"
   ]
  },
  {
   "cell_type": "code",
   "execution_count": null,
   "outputs": [],
   "source": [
    "# TODO implement google api here "
   ],
   "metadata": {
    "collapsed": false,
    "pycharm": {
     "name": "#%%\n"
    }
   }
  },
  {
   "cell_type": "code",
   "execution_count": null,
   "outputs": [],
   "source": [
    "# TODO implement bing api here "
   ],
   "metadata": {
    "collapsed": false,
    "pycharm": {
     "name": "#%%\n"
    }
   }
  },
  {
   "cell_type": "code",
   "execution_count": 2,
   "metadata": {},
   "outputs": [],
   "source": []
  },
  {
   "cell_type": "code",
   "execution_count": 3,
   "metadata": {},
   "outputs": [],
   "source": [
    "# TODO implement bing api here "
   ]
  },
  {
   "cell_type": "code",
   "execution_count": null,
   "metadata": {},
   "outputs": [],
   "source": []
  }
 ],
 "metadata": {
  "kernelspec": {
   "display_name": "Python 3",
   "language": "python",
   "name": "python3"
  },
  "language_info": {
   "codemirror_mode": {
    "name": "ipython",
    "version": 3
   },
   "file_extension": ".py",
   "mimetype": "text/x-python",
   "name": "python",
   "nbconvert_exporter": "python",
   "pygments_lexer": "ipython3",
   "version": "3.8.2"
  }
 },
 "nbformat": 4,
 "nbformat_minor": 2
}