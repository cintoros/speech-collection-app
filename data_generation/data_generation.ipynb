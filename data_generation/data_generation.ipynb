{
 "cells": [
  {
   "cell_type": "code",
   "execution_count": 1,
   "metadata": {},
   "outputs": [
    {
     "name": "stdout",
     "output_type": "stream",
     "text": [
      "present\n"
     ]
    }
   ],
   "source": [
    "import os\n",
    "\n",
    "import pyttsx3\n",
    "from espeakng import ESpeakNG\n",
    "from gtts import gTTS\n",
    "\n",
    "import abox\n",
    "from config import *\n",
    "\n",
    "def ttsGTTS(text: str):\n",
    "    \"\"\"\n",
    "     current limit can be seen here https://cloud.google.com/text-to-speech/quotas\n",
    "     see also https://github.com/pndurette/gTTS/issues/117#issuecomment-458634045\n",
    "    :param text:\n",
    "    \"\"\"\n",
    "    tts = gTTS(text, lang='de')\n",
    "    tts.save(os.path.join(BASE_DIR, 'data_generation', \"gTTS.mp3\"))\n",
    "\n",
    "\n",
    "# TODO not sure about the quality of espeak/espeak-ng\n",
    "#  could be usefully to generate data with different pitch,speed volume etc.\n",
    "\n",
    "# requires espeak(all) , nsss(mac) or sapi5(windows) to be installed locally\n",
    "def ttsPyttsx3(text: str):\n",
    "    engine = pyttsx3.init()\n",
    "    engine.setProperty('voice', 'german')\n",
    "    # rate: int = engine.getProperty('rate')\n",
    "    # engine.setProperty('rate', rate - 0)\n",
    "    # volume: int = engine.getProperty('volume')\n",
    "    # engine.setProperty('volume', volume - 0.0)\n",
    "    print(\"save_to_file\")\n",
    "    engine.save_to_file(text, os.path.join(BASE_DIR, 'data_generation', \"pyttsx3.mp3\"))\n",
    "    print(\"runAndWait\")\n",
    "    engine.runAndWait()\n",
    "    print(\"finished?\")\n",
    "\n",
    "\n",
    "# requires espeak-ng  to be installed locally\n",
    "def ttsEsng(text: str):\n",
    "    esng = ESpeakNG()\n",
    "    esng.voice = 'german'\n",
    "    esng.voice = 'German'\n",
    "    # esng.pitch = 80\n",
    "    # esng.speed = 120\n",
    "    # esng.volume = 200\n",
    "    #for v in esng.voices:\n",
    "        #print(v)\n",
    "    wavs = esng.synth_wav(text)\n",
    "    if wavs:\n",
    "        print(\"present\")\n",
    "        with open(os.path.join(BASE_DIR, 'data_generation', \"esng.wav\"), 'wb') as output:\n",
    "            output.write(wavs)\n",
    "    else:\n",
    "        print(\"nope\")\n",
    "    # wav = wave.open(StringIO.StringIO(wavs))\n",
    "    # print(wav.getnchannels(), wav.getframerate(), wav.getnframes())\n",
    "\n",
    "\n",
    "# TODO https://acapela-box.com/AcaBox/index.php does not serve an api.\n",
    "#  For a cloud base api see https://www.acapela-group.com/solutions/acapela-vaas/\n",
    "# TODO not sure about this implementation -> needs python-pympv or other library that provides codecs\n",
    "def ttsAbox(text: str):\n",
    "    box = abox.Abox(output=os.path.join(BASE_DIR, 'data_generation', \"abox.ogg\"), voice=\"willbadguy22k\")\n",
    "    url = box.query(text)\n",
    "    ret = abox.ab_download(url, box.option_l)\n",
    "    if not ret:\n",
    "        print(\"Aborting\")\n",
    "\n",
    "\n",
    "def googleApi():\n",
    "    # TODO implement\n",
    "    print(\"not implemented\")\n",
    "\n",
    "\n",
    "def bingApi():\n",
    "    # TODO implement\n",
    "    print(\"not implemented\")\n",
    "\n",
    "\n",
    "def mozillaTss():\n",
    "    # see https://github.com/mozilla/TTS\n",
    "    # TODO maybe some of the data of the open source datasets might be useful instead?\n",
    "    #  https://www.caito.de/2019/01/the-m-ailabs-speech-dataset/\n",
    "    print(\"not implemented\")\n",
    "\n",
    "\n",
    "def run(text: str):\n",
    "    # ttsGTTS(text)\n",
    "    # ttsPyttsx3(text)\n",
    "    ttsEsng(text)\n",
    "    # acapela(text)\n",
    "    # ttsAbox(text)\n",
    "\n",
    "\n",
    "run(\"Hallo Welt das hier ist ein deutscher Text gesprochen von einem Programm.\")\n"
   ]
  },
  {
   "cell_type": "code",
   "execution_count": 1,
   "metadata": {},
   "outputs": [
    {
     "name": "stdout",
     "output_type": "stream",
     "text": [
      "Audio content written to file\n"
     ]
    }
   ],
   "source": [
    "# based on https://cloud.google.com/text-to-speech/docs/reference/libraries#cloud-console\n",
    "# for pricing see https://cloud.google.com/text-to-speech/pricing\n",
    "# for languages/voices see https://cloud.google.com/text-to-speech/docs/voices\n",
    "\n",
    "import os\n",
    "from google.oauth2 import service_account\n",
    "from config import *\n",
    "from google.cloud import texttospeech\n",
    "\n",
    "os.makedirs(name=os.path.join(BASE_DIR, \"data_generation\", \"google_cloud\"),exist_ok=True)\n",
    "\n",
    "# Instantiates a client\n",
    "credentials = service_account.Credentials.from_service_account_file(GOOGLE_APPLICATION_CREDENTIALS)\n",
    "client = texttospeech.TextToSpeechClient(credentials=credentials)\n",
    "\n",
    "# Set the text input to be synthesized\n",
    "text=\"Hallo Welt das hier ist ein deutscher Text gesprochen von einem Programm.\"\n",
    "synthesis_input = texttospeech.types.SynthesisInput(text=text)\n",
    "\n",
    "# Build the voice request, select the language and voice\n",
    "# Standard Female\n",
    "voice = texttospeech.types.VoiceSelectionParams(language_code=\"de-DE\",name=\"de-DE-Standard-A\")\n",
    "# Standard Male\n",
    "voice = texttospeech.types.VoiceSelectionParams(language_code=\"de-DE\",name=\"de-DE-Standard-B\")\n",
    "# Neutral Ssml => seems to default to de-DE-Standard-A\n",
    "voice = texttospeech.types.VoiceSelectionParams(language_code=\"de-DE\",ssml_gender=texttospeech.enums.SsmlVoiceGender.NEUTRAL)\n",
    "# Select the type of audio file you want returned\n",
    "audio_config = texttospeech.types.AudioConfig(audio_encoding=texttospeech.enums.AudioEncoding.MP3)\n",
    "# Perform the text-to-speech request on the text input with the selected voice parameters and audio file type\n",
    "response = client.synthesize_speech(synthesis_input, voice, audio_config)\n",
    "\n",
    "# The response's audio_content is binary.\n",
    "with open(os.path.join(BASE_DIR, \"data_generation\", \"google_cloud\",\"google_cloud_n.mp3\"), 'wb') as out:\n",
    "    # Write the response to the output file.\n",
    "    out.write(response.audio_content)\n",
    "    print('Audio content written to file')"
   ]
  },
  {
   "cell_type": "code",
   "execution_count": 43,
   "metadata": {},
   "outputs": [
    {
     "name": "stdout",
     "output_type": "stream",
     "text": [
      "Speech synthesis canceled: CancellationReason.Error\n",
      "Error details: Connection failed (no connection to the remote host). Internal error: 1. Error details: 2460. Please check network connection, firewall setting, and the region name used to create speech factory. USP state: 2. Received audio size: 0bytes.\n",
      "SpeechSynthesisCancellationDetails(reason=CancellationReason.Error, error_details=\"Connection failed (no connection to the remote host). Internal error: 1. Error details: 2460. Please check network connection, firewall setting, and the region name used to create speech factory. USP state: 2. Received audio size: 0bytes.\")\n",
      "Did you update the subscription info?\n"
     ]
    }
   ],
   "source": [
    "# based on https://azure.microsoft.com/en-us/pricing/details/cognitive-services/speech-services/\n",
    "# for pricing see https://azure.microsoft.com/en-us/pricing/details/cognitive-services/speech-services/\n",
    "# for voices see https://docs.microsoft.com/en-us/azure/cognitive-services/speech-service/language-support#standard-voices\n",
    "\n",
    "# NOTE: on manjarothis sdk does not seem to work as some libary is not present \n",
    "# -> this may also happen on newer linux distribution in case the packages/kernel are updated\n",
    "# for now it does work for ubuntu(docker), also there is also a rest api that can be used as fallback.\n",
    "import os\n",
    "import azure.cognitiveservices.speech as speechsdk\n",
    "from config import *\n",
    "\n",
    "os.makedirs(name=os.path.join(BASE_DIR, \"data_generation\", \"azure_cloud\"),exist_ok=True)\n",
    "\n",
    "# Replace with your own subscription key and region identifier from here: https://aka.ms/speech/sdkregion\n",
    "speech_config = speechsdk.SpeechConfig(subscription=AZURE_APPLICATION_KEY, region=AZURE_APPLICATION_REGION)\n",
    "\n",
    "# Creates an audio configuration that points to an audio file.\n",
    "# Replace with your own audio filename.\n",
    "audio_filename = os.path.join(BASE_DIR, \"data_generation\", \"azure_cloud\",\"helloworld.mp3\")\n",
    "audio_output = speechsdk.audio.AudioOutputConfig(filename=audio_filename)\n",
    "\n",
    "# Creates a synthesizer with the given settings\n",
    "speech_synthesizer = speechsdk.SpeechSynthesizer(speech_config=speech_config, audio_config=audio_output)\n",
    "\n",
    "# Synthesizes the text to speech.\n",
    "# Replace with your own text.\n",
    "text = \"Hello world!\"\n",
    "result = speech_synthesizer.speak_text_async(text).get()\n",
    "\n",
    "# Checks result.\n",
    "if result.reason == speechsdk.ResultReason.SynthesizingAudioCompleted:\n",
    "    print(\"Speech synthesized to [{}] for text [{}]\".format(audio_filename, text))\n",
    "elif result.reason == speechsdk.ResultReason.Canceled:\n",
    "    cancellation_details = result.cancellation_details\n",
    "    print(\"Speech synthesis canceled: {}\".format(cancellation_details.reason))\n",
    "    if cancellation_details.reason == speechsdk.CancellationReason.Error:\n",
    "        if cancellation_details.error_details:\n",
    "            print(\"Error details: {}\".format(cancellation_details.error_details))\n",
    "            print(cancellation_details)\n",
    "    print(\"Did you update the subscription info?\")"
   ]
  },
  {
   "cell_type": "code",
   "execution_count": 40,
   "metadata": {},
   "outputs": [],
   "source": [
    "# https://docs.microsoft.com/en-us/azure/cognitive-services/speech-service/quickstart-python-text-to-speech\n",
    "\n",
    "import os\n",
    "import requests\n",
    "import time\n",
    "from xml.etree import ElementTree\n",
    "from config import *\n",
    "\n",
    "def get_token():\n",
    "    fetch_token_url = 'https://'+AZURE_APPLICATION_REGION+'.api.cognitive.microsoft.com/sts/v1.0/issueToken'\n",
    "    headers = {\n",
    "        'Ocp-Apim-Subscription-Key': AZURE_APPLICATION_KEY\n",
    "    }\n",
    "    response = requests.post(fetch_token_url, headers=headers)\n",
    "    access_token = str(response.text)\n",
    "    return access_token\n",
    "\n",
    "basePath=os.path.join(BASE_DIR, \"data_generation\", \"azure_cloud\")\n",
    "os.makedirs(name=basePath,exist_ok=True)\n",
    "\n",
    "base_url = 'https://'+AZURE_APPLICATION_REGION+'.tts.speech.microsoft.com/'\n",
    "path = 'cognitiveservices/v1'\n",
    "constructed_url = base_url + path\n",
    "headers = {\n",
    "    'Authorization': 'Bearer ' + get_token(),\n",
    "    'Content-Type': 'application/ssml+xml',\n",
    "    # see https://docs.microsoft.com/en-us/azure/cognitive-services/speech-service/rest-text-to-speech#audio-outputs\n",
    "    'X-Microsoft-OutputFormat': 'audio-24khz-160kbitrate-mono-mp3',\n",
    "    'User-Agent': 'YOUR_RESOURCE_NAME'\n",
    "}"
   ]
  },
  {
   "cell_type": "code",
   "execution_count": 39,
   "metadata": {},
   "outputs": [
    {
     "name": "stdout",
     "output_type": "stream",
     "text": [
      "\n",
      "Status code: 200\n",
      "Your TTS is ready for playback.\n",
      "\n"
     ]
    }
   ],
   "source": [
    "# TODO probably use voices de-CH-Karsten de-DE-Hedda,de-DE-Stefan-Apollo maybe de-DE-HeddaRUS\n",
    "voiceName=\"de-DE-HeddaRUS\"\n",
    "\n",
    "xml_body = ElementTree.Element('speak', version='1.0')\n",
    "xml_body.set('{http://www.w3.org/XML/1998/namespace}lang', 'en-US')\n",
    "voice = ElementTree.SubElement(xml_body, 'voice')\n",
    "voice.set('{http://www.w3.org/XML/1998/namespace}lang', 'en-US')\n",
    "voice.set('name', voiceName)\n",
    "voice.text = \"Hallo Welt das hier ist ein deutscher Text gesprochen von einem Programm.\"\n",
    "body = ElementTree.tostring(xml_body)\n",
    "\n",
    "response = requests.post(constructed_url, headers=headers, data=body)\n",
    "if response.status_code == 200:\n",
    "    with open(os.path.join(basePath,\"sample-\"+voiceName+\".mp3\"), 'wb') as audio:\n",
    "        audio.write(response.content)\n",
    "        print(\"\\nStatus code: \" + str(response.status_code) +\n",
    "              \"\\nYour TTS is ready for playback.\\n\")\n",
    "else:\n",
    "    print(\"\\nStatus code: \" + str(response.status_code) +\n",
    "          \"\\nSomething went wrong. Check your subscription key and headers.\\n\")"
   ]
  },
  {
   "cell_type": "code",
   "execution_count": 5,
   "metadata": {},
   "outputs": [],
   "source": [
    "import pandas\n",
    "import os\n",
    "from config import *\n",
    "from time import sleep\n",
    "sleep(0.05)\n",
    "dataset=pandas.read_csv(os.path.join(BASE_DIR,\"common_voice\",\"sentences.csv\"))"
   ]
  },
  {
   "cell_type": "code",
   "execution_count": 9,
   "metadata": {},
   "outputs": [
    {
     "ename": "NameError",
     "evalue": "name 'mysql' is not defined",
     "output_type": "error",
     "traceback": [
      "\u001b[0;31m---------------------------------------------------------------------------\u001b[0m",
      "\u001b[0;31mNameError\u001b[0m                                 Traceback (most recent call last)",
      "\u001b[0;32m<ipython-input-9-9941ed09f343>\u001b[0m in \u001b[0;36m<module>\u001b[0;34m\u001b[0m\n\u001b[1;32m      1\u001b[0m \u001b[0;31m# TODO add database\u001b[0m\u001b[0;34m\u001b[0m\u001b[0;34m\u001b[0m\u001b[0;34m\u001b[0m\u001b[0m\n\u001b[0;32m----> 2\u001b[0;31m \u001b[0mconnection\u001b[0m \u001b[0;34m=\u001b[0m \u001b[0mmysql\u001b[0m\u001b[0;34m.\u001b[0m\u001b[0mconnector\u001b[0m\u001b[0;34m.\u001b[0m\u001b[0mconnect\u001b[0m\u001b[0;34m(\u001b[0m\u001b[0mhost\u001b[0m\u001b[0;34m=\u001b[0m\u001b[0mHOST\u001b[0m\u001b[0;34m,\u001b[0m\u001b[0mdatabase\u001b[0m\u001b[0;34m=\u001b[0m\u001b[0mDATABASE\u001b[0m\u001b[0;34m,\u001b[0m\u001b[0muser\u001b[0m\u001b[0;34m=\u001b[0m\u001b[0mUSER\u001b[0m\u001b[0;34m,\u001b[0m\u001b[0mpassword\u001b[0m\u001b[0;34m=\u001b[0m\u001b[0mPASSWORD\u001b[0m\u001b[0;34m)\u001b[0m\u001b[0;34m\u001b[0m\u001b[0;34m\u001b[0m\u001b[0m\n\u001b[0m\u001b[1;32m      3\u001b[0m \u001b[0mconnection\u001b[0m\u001b[0;34m.\u001b[0m\u001b[0mautocommit\u001b[0m \u001b[0;34m=\u001b[0m \u001b[0;32mFalse\u001b[0m\u001b[0;34m\u001b[0m\u001b[0;34m\u001b[0m\u001b[0m\n\u001b[1;32m      4\u001b[0m \u001b[0mcursor\u001b[0m \u001b[0;34m=\u001b[0m \u001b[0mconnection\u001b[0m\u001b[0;34m.\u001b[0m\u001b[0mcursor\u001b[0m\u001b[0;34m(\u001b[0m\u001b[0mdictionary\u001b[0m\u001b[0;34m=\u001b[0m\u001b[0;32mTrue\u001b[0m\u001b[0;34m)\u001b[0m\u001b[0;34m\u001b[0m\u001b[0;34m\u001b[0m\u001b[0m\n\u001b[1;32m      5\u001b[0m \u001b[0;31m# TODO not sure if the text table makes sense?\u001b[0m\u001b[0;34m\u001b[0m\u001b[0;34m\u001b[0m\u001b[0;34m\u001b[0m\u001b[0m\n",
      "\u001b[0;31mNameError\u001b[0m: name 'mysql' is not defined"
     ]
    }
   ],
   "source": [
    "# TODO add database\n",
    "connection = mysql.connector.connect(host=HOST,database=DATABASE,user=USER,password=PASSWORD)\n",
    "connection.autocommit = False \n",
    "cursor = connection.cursor(dictionary=True)\n",
    "# TODO not sure if the text table makes sense?\n",
    "cursor.execute(\"CREATE TABLE IF NOT EXISTS text(id BIGINT NOT NULL AUTO_INCREMENT,text TEXT NOT NULL)ENGINE = INNODB DEFAULT CHARSET = UTF8MB4;\")\n",
    "# TODO probably add source enum to get the last inserted id per api\n",
    "cursor.execute(\"CREATE TABLE IF NOT EXISTS audio(id BIGINT NOT NULL AUTO_INCREMENT,text_id BIGINT NOT NULL,voice TEXT NOT NULL\"\n",
    "               +\")ENGINE = INNODB DEFAULT CHARSET = UTF8MB4;\")\n",
    "# TODO insert all sentences\n",
    "# TODO add audios if there is not already a entry for the api/source\n",
    "last_id=1\n",
    "# for i in range(last_id,len(dataset.sentence)):\n",
    "#     TODO implement\n",
    "# def nextApiVoice():\n",
    "# TODO get next api voice until limit is reached\n",
    "# TODO \n",
    "len(dataset.sentence)"
   ]
  },
  {
   "cell_type": "code",
   "execution_count": 10,
   "metadata": {},
   "outputs": [
    {
     "data": {
      "text/plain": [
       "98750"
      ]
     },
     "execution_count": 10,
     "metadata": {},
     "output_type": "execute_result"
    }
   ],
   "source": [
    "len(dataset.sentence)\n",
    "# TODO probably add multiple classes per api and make it so we loop over the api until it throws an exception \n",
    "# -> and then we remove it from the array\n",
    "\n",
    "class MicrosoftApi:\n",
    "    sel"
   ]
  }
 ],
 "metadata": {
  "kernelspec": {
   "display_name": "Python 3",
   "language": "python",
   "name": "python3"
  },
  "language_info": {
   "codemirror_mode": {
    "name": "ipython",
    "version": 3
   },
   "file_extension": ".py",
   "mimetype": "text/x-python",
   "name": "python",
   "nbconvert_exporter": "python",
   "pygments_lexer": "ipython3",
   "version": "3.8.2"
  }
 },
 "nbformat": 4,
 "nbformat_minor": 2
}
