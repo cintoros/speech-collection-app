{
 "cells": [
  {
   "cell_type": "code",
   "execution_count": 1,
   "metadata": {},
   "outputs": [],
   "source": [
    "import pandas\n",
    "import os\n",
    "from mutagen.mp3 import MP3\n",
    "basePath=\"../data/common_voice/\"\n",
    "def readDataSet(name:str):\n",
    "    dataset=pandas.read_csv(os.path.join(basePath,name), sep='\\t')\n",
    "    print(dataset.accent.unique())\n",
    "    datasetSwiss=dataset[dataset.accent == 'switzerland']\n",
    "    #print(datasetSwiss)\n",
    "\n",
    "    seconds=0\n",
    "    errors=0\n",
    "    for p in datasetSwiss.path:\n",
    "        try:\n",
    "            audio = MP3(os.path.join(basePath,\"clips\",p))\n",
    "            seconds+=audio.info.length\n",
    "        except:\n",
    "            errors+=1\n",
    "            print(\"error in file: \"+p)\n",
    "\n",
    "    print(datasetSwiss.path.count())\n",
    "    print(\"sec h\")\n",
    "    print(seconds)\n",
    "    print(seconds/60/60)"
   ]
  },
  {
   "cell_type": "code",
   "execution_count": 2,
   "metadata": {},
   "outputs": [
    {
     "name": "stdout",
     "output_type": "stream",
     "text": [
      "[nan 'germany' 'russia' 'france' 'switzerland' 'united_states' 'austria'\n",
      " 'turkey' 'united_kingdom' 'netherlands' 'canada' 'hungary' 'other'\n",
      " 'belgium' 'poland' 'liechtenstein' 'slovenia' 'brazil' 'italy' 'slovakia'\n",
      " 'czechia']\n",
      "4631\n",
      "sec h\n",
      "23246.471999999994\n",
      "6.457353333333332\n",
      "['germany' nan 'france' 'other' 'switzerland' 'austria' 'russia' 'hungary'\n",
      " 'netherlands' 'namibia' 'united_kingdom' 'slovakia' 'united_states'\n",
      " 'italy' 'czechia' 'brazil' 'turkey' 'liechtenstein' 'belgium' 'canada']\n",
      "247\n",
      "sec h\n",
      "1288.727999999999\n",
      "0.3579799999999997\n"
     ]
    }
   ],
   "source": [
    "readDataSet('validated.tsv')\n",
    "readDataSet('invalidated.tsv')"
   ]
  },
  {
   "cell_type": "code",
   "execution_count": 4,
   "metadata": {},
   "outputs": [
    {
     "name": "stdout",
     "output_type": "stream",
     "text": [
      "370976\n",
      "98750\n"
     ]
    },
    {
     "ename": "AttributeError",
     "evalue": "'numpy.ndarray' object has no attribute 'to_csv'",
     "output_type": "error",
     "traceback": [
      "\u001b[0;31m---------------------------------------------------------------------------\u001b[0m",
      "\u001b[0;31mAttributeError\u001b[0m                            Traceback (most recent call last)",
      "\u001b[0;32m<ipython-input-4-9bf7a3853109>\u001b[0m in \u001b[0;36m<module>\u001b[0;34m\u001b[0m\n\u001b[1;32m      8\u001b[0m \u001b[0;34m\u001b[0m\u001b[0m\n\u001b[1;32m      9\u001b[0m \u001b[0ma\u001b[0m\u001b[0;34m=\u001b[0m\u001b[0mdataset\u001b[0m\u001b[0;34m.\u001b[0m\u001b[0msentence\u001b[0m\u001b[0;34m.\u001b[0m\u001b[0munique\u001b[0m\u001b[0;34m(\u001b[0m\u001b[0;34m)\u001b[0m\u001b[0;34m\u001b[0m\u001b[0;34m\u001b[0m\u001b[0m\n\u001b[0;32m---> 10\u001b[0;31m \u001b[0ma\u001b[0m\u001b[0;34m.\u001b[0m\u001b[0mto_csv\u001b[0m\u001b[0;34m(\u001b[0m\u001b[0;34m'sentences.csv'\u001b[0m\u001b[0;34m,\u001b[0m \u001b[0mindex\u001b[0m\u001b[0;34m=\u001b[0m\u001b[0;32mTrue\u001b[0m\u001b[0;34m)\u001b[0m\u001b[0;34m\u001b[0m\u001b[0;34m\u001b[0m\u001b[0m\n\u001b[0m",
      "\u001b[0;31mAttributeError\u001b[0m: 'numpy.ndarray' object has no attribute 'to_csv'"
     ]
    }
   ],
   "source": [
    "# extract about 10h text -> about 5 seconds per text -> about 7660 sentences\n",
    "dataset=pandas.read_csv(os.path.join(basePath,\"validated.tsv\"), sep='\\t')\n",
    "print(len(dataset.sentence))\n",
    "print(len(dataset.sentence.unique()))\n",
    "file1 = open(os.path.join(basePath,\"sentences.txt\"),\"w\") \n",
    "for s in dataset.sentence.unique():\n",
    "    file1.write(s+\"\\n\")\n",
    "\n",
    "a=dataset.sentence.unique()\n",
    "a.to_csv('sentences.csv', index=True)"
   ]
  },
  {
   "cell_type": "code",
   "execution_count": 10,
   "metadata": {},
   "outputs": [],
   "source": [
    "dframe=pandas.DataFrame(a)\n",
    "dframe.index = dframe.index + 1\n",
    "dframe.to_csv(os.path.join(basePath,\"sentences.csv\"), index=True)"
   ]
  },
  {
   "cell_type": "code",
   "execution_count": 20,
   "metadata": {},
   "outputs": [],
   "source": [
    "import pandas\n",
    "import os\n",
    "basePath=\"../data/common_voice/data_de\"\n",
    "# downloaded from https://github.com/mozilla/voice-web/tree/master/server/data/de\n",
    "\n",
    "files=[\"countries-and-cities.txt\",\"DonHege.txt\",\"est31.txt\",\"europarl-v7-de.txt\",\"german-cities.txt\",\"jf99.txt\",\"jf99-batch01.txt\",\"jf99-batch02.txt\",\"jf99-batch03.txt\",\"jf99-batch04.txt\",\"sentence-collector.txt\",\"wiki.de.txt\",\"zeno.txt\",]\n",
    "dframe=pandas.DataFrame({\"sentences\":[]})\n",
    "for file in files:\n",
    "    file1 = open(os.path.join(basePath,file),\"r\") \n",
    "    dframe2=pandas.DataFrame({\"sentences\":file1.readlines()})\n",
    "    dframe=dframe.append(dframe2)\n"
   ]
  },
  {
   "cell_type": "code",
   "execution_count": 43,
   "metadata": {},
   "outputs": [
    {
     "name": "stdout",
     "output_type": "stream",
     "text": [
      "sentences    1794067\n",
      "dtype: int64\n",
      "1736512\n"
     ]
    }
   ],
   "source": [
    "dframe = dframe.replace('\\r\\n','', regex=True)\n",
    "dframe = dframe.replace('\\n','', regex=True)\n",
    "print(dframe.count())\n",
    "print(len(dframe.sentences.unique()))\n",
    "dframe2=pandas.DataFrame({\"sentences\":dframe.sentences.unique()})\n",
    "dframe2.index = dframe2.index + 1\n",
    "dframe2.to_csv(os.path.join(basePath,\"sentences.csv\"), index=True,index_label=\"id\")\n",
    "file1 = open(os.path.join(basePath,\"sentences.txt\"),\"w\") \n",
    "for s in dframe2.sentences:\n",
    "    file1.write(s+\"\\n\")"
   ]
  }
 ],
 "metadata": {
  "kernelspec": {
   "display_name": "Python 3",
   "language": "python",
   "name": "python3"
  },
  "language_info": {
   "codemirror_mode": {
    "name": "ipython",
    "version": 3
   },
   "file_extension": ".py",
   "mimetype": "text/x-python",
   "name": "python",
   "nbconvert_exporter": "python",
   "pygments_lexer": "ipython3",
   "version": "3.8.2"
  }
 },
 "nbformat": 4,
 "nbformat_minor": 2
}
